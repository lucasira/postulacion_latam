{
 "cells": [
  {
   "cell_type": "markdown",
   "metadata": {},
   "source": [
    "# Data Engineer Challenge\n"
   ]
  },
  {
   "cell_type": "markdown",
   "metadata": {},
   "source": [
    "### Imports clave"
   ]
  },
  {
   "cell_type": "code",
   "execution_count": 3,
   "metadata": {},
   "outputs": [],
   "source": [
    "from memory_profiler import memory_usage\n",
    "\n",
    "import time\n",
    "\n",
    "# Importar nuestras funciones\n",
    "from q1_time import q1_time\n",
    "from q1_memory import q1_memory\n",
    "from q2_time import q2_time\n",
    "from q2_memory import q2_memory\n",
    "from q3_time import q3_time\n",
    "from q3_memory import q3_memory\n",
    "from config import JSON_FILENAME\n",
    "file_path = JSON_FILENAME\n"
   ]
  },
  {
   "cell_type": "code",
   "execution_count": 5,
   "metadata": {},
   "outputs": [
    {
     "name": "stdout",
     "output_type": "stream",
     "text": [
      "Zip file 'drive_zip.zip' not found. Downloading...\n",
      "Download 100%.\n",
      "Zip file 'drive_zip.zip' downloaded successfully.\n",
      "Extracting and renaming file from 'drive_zip.zip'...\n",
      "File extracted and renamed to 'output.json'.\n"
     ]
    },
    {
     "data": {
      "text/plain": [
       "<JsonMaker.JsonMaker at 0x7fbe5d5f59f0>"
      ]
     },
     "execution_count": 5,
     "metadata": {},
     "output_type": "execute_result"
    }
   ],
   "source": [
    "from JsonMaker import JsonMaker \n",
    "JsonMaker() #Descarga json si es que no esta en la carpeta"
   ]
  },
  {
   "cell_type": "markdown",
   "metadata": {},
   "source": [
    "#### q1\n",
    "##### Time"
   ]
  },
  {
   "cell_type": "code",
   "execution_count": 6,
   "metadata": {},
   "outputs": [
    {
     "name": "stdout",
     "output_type": "stream",
     "text": [
      "Top 10 most used senders:\n",
      "Date: 2021-02-12, Top User: RanbirS00614606\n",
      "Date: 2021-02-13, Top User: MaanDee08215437\n",
      "Date: 2021-02-17, Top User: RaaJVinderkaur\n",
      "Date: 2021-02-16, Top User: jot__b\n",
      "Date: 2021-02-14, Top User: rebelpacifist\n",
      "Date: 2021-02-18, Top User: neetuanjle_nitu\n",
      "Date: 2021-02-15, Top User: jot__b\n",
      "Date: 2021-02-20, Top User: MangalJ23056160\n",
      "Date: 2021-02-23, Top User: Surrypuria\n",
      "Date: 2021-02-19, Top User: Preetm91\n",
      "\n",
      "Execution time: 3.8521 seconds\n"
     ]
    }
   ],
   "source": [
    "# Tiempo de inicio\n",
    "start_time = time.time()\n",
    "top_senders = q1_time(file_path)\n",
    "end_time = time.time()\n",
    "\n",
    "print(\"Los 10 remitentes más activos:\")\n",
    "for date, most_active_user in top_senders:\n",
    "    print(f\"Fecha: {date}, Usuario más activo: {most_active_user}\")\n",
    "\n",
    "print(f\"\\nTiempo de ejecución: {end_time - start_time:.4f} segundos\")"
   ]
  },
  {
   "cell_type": "markdown",
   "metadata": {},
   "source": [
    "##### Memory\n"
   ]
  },
  {
   "cell_type": "code",
   "execution_count": 10,
   "metadata": {},
   "outputs": [
    {
     "name": "stdout",
     "output_type": "stream",
     "text": [
      "Filename: /home/lucasira/postulacion/challenge_DE/postulacion_latam/src/q1_memory.py\n",
      "\n",
      "Line #    Mem usage    Increment  Occurrences   Line Contents\n",
      "=============================================================\n",
      "     1                                         from collections import Counter, defaultdict\n",
      "     2                                         import heapq\n",
      "     3                                         from concurrent.futures import ThreadPoolExecutor\n",
      "     4                                         import os\n",
      "     5                                         from itertools import islice\n",
      "     6                                         from typing import List, Tuple\n",
      "     7                                         from datetime import date as date_class\n",
      "     8                                         import orjson\n",
      "     9                                         from datetime import datetime\n",
      "    10                                         from config import JSON_FILENAME\n",
      "    11                                         from memory_profiler import profile\n",
      "    12                                         from JsonMaker import JsonMaker\n",
      "    13                                         \n",
      "    14    127.2 MiB    127.2 MiB           1   # @profile descomentar para ver detalles\n",
      "    15                                         def q1_memory(file_path: str) -> List[Tuple[datetime.date, str]]:\n",
      "    16    127.2 MiB      0.0 MiB           1       chunk_size = 1000\n",
      "    17    127.2 MiB      0.0 MiB           1       date_tweet_count = Counter()\n",
      "    18    127.2 MiB      0.0 MiB          27       user_tweet_count = defaultdict(lambda: defaultdict(int))\n",
      "    19                                             \n",
      "    20    127.2 MiB      0.0 MiB           1       num_threads = min(os.cpu_count() or 1, 4)\n",
      "    21                                             \n",
      "    22    127.2 MiB      0.0 MiB           1       def process_chunk(chunk):\n",
      "    23                                                 chunk_date_tweet_count = Counter()\n",
      "    24                                                 chunk_user_tweet_count = defaultdict(lambda: defaultdict(int))\n",
      "    25                                                 for line in chunk:\n",
      "    26                                                     tweet = orjson.loads(line)\n",
      "    27                                                     date_str = tweet['date'][:10]\n",
      "    28                                                     tweet_date = date_class(int(date_str[:4]), int(date_str[5:7]), int(date_str[8:10]))\n",
      "    29                                                     username = tweet['user']['username']\n",
      "    30                                                     \n",
      "    31                                                     chunk_date_tweet_count[tweet_date] += 1\n",
      "    32                                                     chunk_user_tweet_count[tweet_date][username] += 1\n",
      "    33                                                 \n",
      "    34                                                 return chunk_date_tweet_count, chunk_user_tweet_count\n",
      "    35                                             \n",
      "    36    127.2 MiB      0.0 MiB           2       def file_chunk_generator(file, chunk_size):\n",
      "    37    127.2 MiB      0.0 MiB         119           while True:\n",
      "    38    127.2 MiB      0.0 MiB         119               chunk = list(islice(file, chunk_size))\n",
      "    39    127.2 MiB      0.0 MiB         119               if not chunk:\n",
      "    40    127.2 MiB      0.0 MiB           1                   break\n",
      "    41    127.2 MiB      0.0 MiB         236               yield chunk\n",
      "    42                                             \n",
      "    43    127.2 MiB     -0.5 MiB           2       with ThreadPoolExecutor(max_workers=num_threads) as executor:\n",
      "    44    127.2 MiB      0.0 MiB           2           with open(file_path, 'r') as file:\n",
      "    45    127.2 MiB      0.0 MiB         119               for chunk_date_tweet_count, chunk_user_tweet_count in executor.map(process_chunk, file_chunk_generator(file, chunk_size)):\n",
      "    46    127.2 MiB      0.0 MiB         118                   date_tweet_count.update(chunk_date_tweet_count)\n",
      "    47    127.2 MiB      0.0 MiB         248                   for date, user_counts in chunk_user_tweet_count.items():\n",
      "    48    127.2 MiB      0.0 MiB       68722                       for user, count in user_counts.items():\n",
      "    49    127.2 MiB      0.0 MiB       68592                           user_tweet_count[date][user] += count\n",
      "    50                                             \n",
      "    51    126.7 MiB     -0.5 MiB          27       top_10_dates = heapq.nlargest(10, date_tweet_count.items(), key=lambda x: x[1])\n",
      "    52                                             \n",
      "    53    126.7 MiB      0.0 MiB           1       result = []\n",
      "    54    126.7 MiB      0.0 MiB          11       for tweet_date, tweet_count in top_10_dates:\n",
      "    55    126.7 MiB      0.0 MiB       88328           top_user = max(user_tweet_count[tweet_date].items(), key=lambda x: x[1])[0]\n",
      "    56    126.7 MiB      0.0 MiB          10           result.append((tweet_date, top_user))\n",
      "    57                                             \n",
      "    58    126.7 MiB      0.0 MiB           1       return result\n",
      "\n",
      "\n",
      "Filename: /home/lucasira/postulacion/challenge_DE/postulacion_latam/src/q1_memory.py\n",
      "\n",
      "Line #    Mem usage    Increment  Occurrences   Line Contents\n",
      "=============================================================\n",
      "     1                                         from collections import Counter, defaultdict\n",
      "     2                                         import heapq\n",
      "     3                                         from concurrent.futures import ThreadPoolExecutor\n",
      "     4                                         import os\n",
      "     5                                         from itertools import islice\n",
      "     6                                         from typing import List, Tuple\n",
      "     7                                         from datetime import date as date_class\n",
      "     8                                         import orjson\n",
      "     9                                         from datetime import datetime\n",
      "    10                                         from config import JSON_FILENAME\n",
      "    11                                         from memory_profiler import profile\n",
      "    12                                         from JsonMaker import JsonMaker\n",
      "    13                                         \n",
      "    14    126.7 MiB    126.7 MiB           1   # @profile descomentar para ver detalles\n",
      "    15                                         def q1_memory(file_path: str) -> List[Tuple[datetime.date, str]]:\n",
      "    16    126.7 MiB      0.0 MiB           1       chunk_size = 1000\n",
      "    17    126.7 MiB      0.0 MiB           1       date_tweet_count = Counter()\n",
      "    18    126.7 MiB      0.0 MiB          27       user_tweet_count = defaultdict(lambda: defaultdict(int))\n",
      "    19                                             \n",
      "    20    126.7 MiB      0.0 MiB           1       num_threads = min(os.cpu_count() or 1, 4)\n",
      "    21                                             \n",
      "    22    126.7 MiB      0.0 MiB           1       def process_chunk(chunk):\n",
      "    23                                                 chunk_date_tweet_count = Counter()\n",
      "    24                                                 chunk_user_tweet_count = defaultdict(lambda: defaultdict(int))\n",
      "    25                                                 for line in chunk:\n",
      "    26                                                     tweet = orjson.loads(line)\n",
      "    27                                                     date_str = tweet['date'][:10]\n",
      "    28                                                     tweet_date = date_class(int(date_str[:4]), int(date_str[5:7]), int(date_str[8:10]))\n",
      "    29                                                     username = tweet['user']['username']\n",
      "    30                                                     \n",
      "    31                                                     chunk_date_tweet_count[tweet_date] += 1\n",
      "    32                                                     chunk_user_tweet_count[tweet_date][username] += 1\n",
      "    33                                                 \n",
      "    34                                                 return chunk_date_tweet_count, chunk_user_tweet_count\n",
      "    35                                             \n",
      "    36    126.7 MiB      0.0 MiB           2       def file_chunk_generator(file, chunk_size):\n",
      "    37    126.7 MiB      0.0 MiB         119           while True:\n",
      "    38    126.7 MiB      0.0 MiB         119               chunk = list(islice(file, chunk_size))\n",
      "    39    126.7 MiB      0.0 MiB         119               if not chunk:\n",
      "    40    126.7 MiB      0.0 MiB           1                   break\n",
      "    41    126.7 MiB      0.0 MiB         236               yield chunk\n",
      "    42                                             \n",
      "    43    126.7 MiB      0.0 MiB           2       with ThreadPoolExecutor(max_workers=num_threads) as executor:\n",
      "    44    126.7 MiB      0.0 MiB           2           with open(file_path, 'r') as file:\n",
      "    45    126.7 MiB      0.0 MiB         119               for chunk_date_tweet_count, chunk_user_tweet_count in executor.map(process_chunk, file_chunk_generator(file, chunk_size)):\n",
      "    46    126.7 MiB      0.0 MiB         118                   date_tweet_count.update(chunk_date_tweet_count)\n",
      "    47    126.7 MiB      0.0 MiB         248                   for date, user_counts in chunk_user_tweet_count.items():\n",
      "    48    126.7 MiB      0.0 MiB       68722                       for user, count in user_counts.items():\n",
      "    49    126.7 MiB      0.0 MiB       68592                           user_tweet_count[date][user] += count\n",
      "    50                                             \n",
      "    51    126.7 MiB      0.0 MiB          27       top_10_dates = heapq.nlargest(10, date_tweet_count.items(), key=lambda x: x[1])\n",
      "    52                                             \n",
      "    53    126.7 MiB      0.0 MiB           1       result = []\n",
      "    54    126.7 MiB      0.0 MiB          11       for tweet_date, tweet_count in top_10_dates:\n",
      "    55    126.7 MiB      0.0 MiB       88328           top_user = max(user_tweet_count[tweet_date].items(), key=lambda x: x[1])[0]\n",
      "    56    126.7 MiB      0.0 MiB          10           result.append((tweet_date, top_user))\n",
      "    57                                             \n",
      "    58    126.7 MiB      0.0 MiB           1       return result\n",
      "\n",
      "\n",
      "Memory-optimized results:\n",
      "Peak memory usage: 127.20703125 MiB\n",
      "Top 10 most used senders:\n",
      "Date: 2021-02-12, Top User: RanbirS00614606\n",
      "Date: 2021-02-13, Top User: MaanDee08215437\n",
      "Date: 2021-02-17, Top User: RaaJVinderkaur\n",
      "Date: 2021-02-16, Top User: jot__b\n",
      "Date: 2021-02-14, Top User: rebelpacifist\n",
      "Date: 2021-02-18, Top User: neetuanjle_nitu\n",
      "Date: 2021-02-15, Top User: jot__b\n",
      "Date: 2021-02-20, Top User: MangalJ23056160\n",
      "Date: 2021-02-23, Top User: Surrypuria\n",
      "Date: 2021-02-19, Top User: Preetm91\n"
     ]
    }
   ],
   "source": [
    "# Uso de memoria\n",
    "mem_usage = memory_usage((q1_memory, (file_path,)))\n",
    "top_senders = q1_memory(file_path)\n",
    "print(\"Resultados optimizados para memoria:\")\n",
    "print(f\"Uso máximo de memoria: {max(mem_usage)} MiB\")\n",
    "\n",
    "print(\"Los 10 remitentes más activos:\")\n",
    "for date, most_active_user in top_senders:\n",
    "    print(f\"Fecha: {date}, Usuario más activo: {most_active_user}\")"
   ]
  },
  {
   "cell_type": "markdown",
   "metadata": {},
   "source": [
    "#### q2\n",
    "##### Time"
   ]
  },
  {
   "cell_type": "code",
   "execution_count": null,
   "metadata": {},
   "outputs": [],
   "source": [
    "# Tiempo de inicio\n",
    "start_time = time.time()\n",
    "top_emojis = q2_time(file_path)\n",
    "end_time = time.time()\n",
    "\n",
    "print(\"Los 10 emojis más utilizados:\")\n",
    "for emoji_char, count in top_emojis:\n",
    "    print(f\"{emoji_char} : {count}\")\n",
    "\n",
    "print(f\"\\nTiempo de ejecución: {end_time - start_time:.4f} segundos\")"
   ]
  },
  {
   "cell_type": "markdown",
   "metadata": {},
   "source": [
    "##### Memory\n"
   ]
  },
  {
   "cell_type": "code",
   "execution_count": null,
   "metadata": {},
   "outputs": [],
   "source": [
    "# Uso de memoria\n",
    "mem_usage = memory_usage((q2_memory, (file_path,)))\n",
    "top_emojis = q2_memory(file_path)\n",
    "print(\"Resultados optimizados para memoria:\")\n",
    "print(f\"Uso máximo de memoria: {max(mem_usage)} MiB\")\n",
    "\n",
    "print(\"Los 10 emojis más utilizados:\")\n",
    "for emoji_char, count in top_emojis:\n",
    "    print(f\"{emoji_char} : {count}\")"
   ]
  },
  {
   "cell_type": "markdown",
   "metadata": {},
   "source": [
    "#### q3\n",
    "##### Time"
   ]
  },
  {
   "cell_type": "code",
   "execution_count": null,
   "metadata": {},
   "outputs": [],
   "source": [
    "# Tiempo de inicio\n",
    "start_time = time.time()\n",
    "top_influential_users = q3_time(file_path)\n",
    "end_time = time.time()\n",
    "\n",
    "print(\"Los 10 usuarios históricos más influyentes:\")\n",
    "for username, count in top_influential_users:\n",
    "    print(f\"@{username} : {count} menciones\")\n",
    "\n",
    "print(f\"\\nTiempo de ejecución: {end_time - start_time:.4f} segundos\")"
   ]
  },
  {
   "cell_type": "markdown",
   "metadata": {},
   "source": [
    "##### Memory\n"
   ]
  },
  {
   "cell_type": "code",
   "execution_count": null,
   "metadata": {},
   "outputs": [],
   "source": [
    "# Uso de memoria\n",
    "mem_usage = memory_usage((q3_memory, (file_path,)))\n",
    "top_influential_users = q3_memory(file_path)\n",
    "print(\"Resultados optimizados para memoria:\")\n",
    "print(f\"Uso máximo de memoria: {max(mem_usage)} MiB\")\n",
    "\n",
    "print(\"Los 10 usuarios históricos más influyentes:\")\n",
    "for username, count in top_influential_users:\n",
    "    print(f\"@{username} : {count} menciones\")"
   ]
  }
 ],
 "metadata": {
  "kernelspec": {
   "display_name": "Python 3",
   "language": "python",
   "name": "python3"
  },
  "language_info": {
   "codemirror_mode": {
    "name": "ipython",
    "version": 3
   },
   "file_extension": ".py",
   "mimetype": "text/x-python",
   "name": "python",
   "nbconvert_exporter": "python",
   "pygments_lexer": "ipython3",
   "version": "3.10.12"
  },
  "orig_nbformat": 4
 },
 "nbformat": 4,
 "nbformat_minor": 2
}
