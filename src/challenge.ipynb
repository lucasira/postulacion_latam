{
 "cells": [
  {
   "cell_type": "markdown",
   "metadata": {},
   "source": [
    "# Data Engineer Challenge\n"
   ]
  },
  {
   "cell_type": "markdown",
   "metadata": {},
   "source": [
    "### Imports clave"
   ]
  },
  {
   "cell_type": "code",
   "execution_count": 1,
   "metadata": {},
   "outputs": [],
   "source": [
    "from memory_profiler import memory_usage\n",
    "\n",
    "import time\n",
    "\n",
    "# Importar nuestras funciones\n",
    "from q1_time import q1_time\n",
    "from q1_memory import q1_memory\n",
    "from q2_time import q2_time\n",
    "from q2_memory import q2_memory\n",
    "from q3_time import q3_time\n",
    "from q3_memory import q3_memory\n",
    "from config import JSON_FILENAME\n",
    "file_path = JSON_FILENAME\n"
   ]
  },
  {
   "cell_type": "code",
   "execution_count": 2,
   "metadata": {},
   "outputs": [
    {
     "name": "stdout",
     "output_type": "stream",
     "text": [
      "El archivo 'output.json' ya existe. No es necesario descargar o extraer.\n"
     ]
    },
    {
     "data": {
      "text/plain": [
       "<JsonMaker.JsonMaker at 0x7fa0016bbe20>"
      ]
     },
     "execution_count": 2,
     "metadata": {},
     "output_type": "execute_result"
    }
   ],
   "source": [
    "from JsonMaker import JsonMaker \n",
    "JsonMaker() #Descarga json si es que no esta en la carpeta"
   ]
  },
  {
   "cell_type": "markdown",
   "metadata": {},
   "source": [
    "#### q1\n",
    "##### Time"
   ]
  },
  {
   "cell_type": "code",
   "execution_count": 3,
   "metadata": {},
   "outputs": [
    {
     "name": "stdout",
     "output_type": "stream",
     "text": [
      "Los 10 remitentes más activos:\n",
      "Fecha: 2021-02-12, Usuario más activo: RanbirS00614606\n",
      "Fecha: 2021-02-13, Usuario más activo: MaanDee08215437\n",
      "Fecha: 2021-02-17, Usuario más activo: RaaJVinderkaur\n",
      "Fecha: 2021-02-16, Usuario más activo: jot__b\n",
      "Fecha: 2021-02-14, Usuario más activo: rebelpacifist\n",
      "Fecha: 2021-02-18, Usuario más activo: neetuanjle_nitu\n",
      "Fecha: 2021-02-15, Usuario más activo: jot__b\n",
      "Fecha: 2021-02-20, Usuario más activo: MangalJ23056160\n",
      "Fecha: 2021-02-23, Usuario más activo: Surrypuria\n",
      "Fecha: 2021-02-19, Usuario más activo: Preetm91\n",
      "\n",
      "Tiempo de ejecución: 8.8501 segundos\n"
     ]
    }
   ],
   "source": [
    "# Tiempo de inicio\n",
    "start_time = time.time()\n",
    "top_senders = q1_time(file_path)\n",
    "end_time = time.time()\n",
    "\n",
    "print(\"Los 10 remitentes más activos:\")\n",
    "for date, most_active_user in top_senders:\n",
    "    print(f\"Fecha: {date}, Usuario más activo: {most_active_user}\")\n",
    "\n",
    "print(f\"\\nTiempo de ejecución: {end_time - start_time:.4f} segundos\")"
   ]
  },
  {
   "cell_type": "markdown",
   "metadata": {},
   "source": [
    "##### Memory\n"
   ]
  },
  {
   "cell_type": "code",
   "execution_count": 4,
   "metadata": {},
   "outputs": [
    {
     "name": "stdout",
     "output_type": "stream",
     "text": [
      "Resultados optimizados para memoria:\n",
      "Uso máximo de memoria: 112.49609375 MiB\n",
      "Los 10 remitentes más activos:\n",
      "Fecha: 2021-02-12, Usuario más activo: RanbirS00614606\n",
      "Fecha: 2021-02-13, Usuario más activo: MaanDee08215437\n",
      "Fecha: 2021-02-17, Usuario más activo: RaaJVinderkaur\n",
      "Fecha: 2021-02-16, Usuario más activo: jot__b\n",
      "Fecha: 2021-02-14, Usuario más activo: rebelpacifist\n",
      "Fecha: 2021-02-18, Usuario más activo: neetuanjle_nitu\n",
      "Fecha: 2021-02-15, Usuario más activo: jot__b\n",
      "Fecha: 2021-02-20, Usuario más activo: MangalJ23056160\n",
      "Fecha: 2021-02-23, Usuario más activo: Surrypuria\n",
      "Fecha: 2021-02-19, Usuario más activo: Preetm91\n"
     ]
    }
   ],
   "source": [
    "# Uso de memoria\n",
    "mem_usage = memory_usage((q1_memory, (file_path,)))\n",
    "top_senders = q1_memory(file_path)\n",
    "print(\"Resultados optimizados para memoria:\")\n",
    "print(f\"Uso máximo de memoria: {max(mem_usage)} MiB\")\n",
    "\n",
    "print(\"Los 10 remitentes más activos:\")\n",
    "for date, most_active_user in top_senders:\n",
    "    print(f\"Fecha: {date}, Usuario más activo: {most_active_user}\")"
   ]
  },
  {
   "cell_type": "markdown",
   "metadata": {},
   "source": [
    "#### q2\n",
    "##### Time"
   ]
  },
  {
   "cell_type": "code",
   "execution_count": 5,
   "metadata": {},
   "outputs": [
    {
     "name": "stdout",
     "output_type": "stream",
     "text": [
      "Los 10 emojis más utilizados:\n",
      "🙏 : 7286\n",
      "😂 : 3070\n",
      "🚜 : 2971\n",
      "✊ : 2411\n",
      "🌾 : 2362\n",
      "🏻 : 2080\n",
      "❤ : 1779\n",
      "🤣 : 1667\n",
      "🏽 : 1218\n",
      "👇 : 1108\n",
      "\n",
      "Tiempo de ejecución: 6.8343 segundos\n"
     ]
    }
   ],
   "source": [
    "# Tiempo de inicio\n",
    "start_time = time.time()\n",
    "top_emojis = q2_time(file_path)\n",
    "end_time = time.time()\n",
    "\n",
    "print(\"Los 10 emojis más utilizados:\")\n",
    "for emoji_char, count in top_emojis:\n",
    "    print(f\"{emoji_char} : {count}\")\n",
    "\n",
    "print(f\"\\nTiempo de ejecución: {end_time - start_time:.4f} segundos\")"
   ]
  },
  {
   "cell_type": "markdown",
   "metadata": {},
   "source": [
    "##### Memory\n"
   ]
  },
  {
   "cell_type": "code",
   "execution_count": 6,
   "metadata": {},
   "outputs": [
    {
     "name": "stdout",
     "output_type": "stream",
     "text": [
      "Resultados optimizados para memoria:\n",
      "Uso máximo de memoria: 207.54296875 MiB\n",
      "Los 10 emojis más utilizados:\n",
      "🙏 : 7286\n",
      "😂 : 3072\n",
      "🚜 : 2972\n",
      "✊ : 2411\n",
      "🌾 : 2363\n",
      "🏻 : 2080\n",
      "❤ : 1779\n",
      "🤣 : 1668\n",
      "🏽 : 1218\n",
      "👇 : 1108\n"
     ]
    }
   ],
   "source": [
    "# Uso de memoria\n",
    "mem_usage = memory_usage((q2_memory, (file_path,)))\n",
    "top_emojis = q2_memory(file_path)\n",
    "print(\"Resultados optimizados para memoria:\")\n",
    "print(f\"Uso máximo de memoria: {max(mem_usage)} MiB\")\n",
    "\n",
    "print(\"Los 10 emojis más utilizados:\")\n",
    "for emoji_char, count in top_emojis:\n",
    "    print(f\"{emoji_char} : {count}\")"
   ]
  },
  {
   "cell_type": "markdown",
   "metadata": {},
   "source": [
    "#### q3\n",
    "##### Time"
   ]
  },
  {
   "cell_type": "code",
   "execution_count": 7,
   "metadata": {},
   "outputs": [
    {
     "name": "stdout",
     "output_type": "stream",
     "text": [
      "Los 10 usuarios históricos más influyentes:\n",
      "@narendramodi : 2261 menciones\n",
      "@Kisanektamorcha : 1836 menciones\n",
      "@RakeshTikaitBKU : 1639 menciones\n",
      "@PMOIndia : 1422 menciones\n",
      "@RahulGandhi : 1125 menciones\n",
      "@GretaThunberg : 1046 menciones\n",
      "@RaviSinghKA : 1015 menciones\n",
      "@rihanna : 972 menciones\n",
      "@UNHumanRights : 962 menciones\n",
      "@meenaharris : 925 menciones\n",
      "\n",
      "Tiempo de ejecución: 17.3829 segundos\n"
     ]
    }
   ],
   "source": [
    "# Tiempo de inicio\n",
    "start_time = time.time()\n",
    "top_influential_users = q3_time(file_path)\n",
    "end_time = time.time()\n",
    "\n",
    "print(\"Los 10 usuarios históricos más influyentes:\")\n",
    "for username, count in top_influential_users:\n",
    "    print(f\"@{username} : {count} menciones\")\n",
    "\n",
    "print(f\"\\nTiempo de ejecución: {end_time - start_time:.4f} segundos\")"
   ]
  },
  {
   "cell_type": "markdown",
   "metadata": {},
   "source": [
    "##### Memory\n"
   ]
  },
  {
   "cell_type": "code",
   "execution_count": 8,
   "metadata": {},
   "outputs": [
    {
     "name": "stdout",
     "output_type": "stream",
     "text": [
      "Resultados optimizados para memoria:\n",
      "Uso máximo de memoria: 207.97265625 MiB\n",
      "Los 10 usuarios históricos más influyentes:\n",
      "@narendramodi : 2261 menciones\n",
      "@Kisanektamorcha : 1836 menciones\n",
      "@RakeshTikaitBKU : 1639 menciones\n",
      "@PMOIndia : 1422 menciones\n",
      "@RahulGandhi : 1125 menciones\n",
      "@GretaThunberg : 1046 menciones\n",
      "@RaviSinghKA : 1015 menciones\n",
      "@rihanna : 972 menciones\n",
      "@UNHumanRights : 962 menciones\n",
      "@meenaharris : 925 menciones\n"
     ]
    }
   ],
   "source": [
    "# Uso de memoria\n",
    "mem_usage = memory_usage((q3_memory, (file_path,)))\n",
    "top_influential_users = q3_memory(file_path)\n",
    "print(\"Resultados optimizados para memoria:\")\n",
    "print(f\"Uso máximo de memoria: {max(mem_usage)} MiB\")\n",
    "\n",
    "print(\"Los 10 usuarios históricos más influyentes:\")\n",
    "for username, count in top_influential_users:\n",
    "    print(f\"@{username} : {count} menciones\")"
   ]
  },
  {
   "cell_type": "markdown",
   "metadata": {},
   "source": [
    "## Mejoras para reducir el tiempo e ideas a explorar:\n",
    "\n",
    "1. **Optimización de estructuras de datos:** dependiendo del tamaño de los datos, es posible que pueda utilizar estructuras de datos más eficientes en memoria.\n",
    "\n",
    "2. **Ajustar la cantidad de workers:** experimentar con diferentes cantidades de procesos de trabajo para encontrar la configuración óptima para el hardware.\n",
    "\n",
    "3. **Procesamiento por lotes:** si la memoria lo permite, se puede intentar procesar grandes cantidades de datos a la vez para reducir la sobrecarga de las llamadas a funciones y la comunicación entre procesos."
   ]
  },
  {
   "cell_type": "markdown",
   "metadata": {},
   "source": [
    "## Mejoras para reducir el uso de memoria e ideas a explorar:\n",
    "\n",
    "1. **Estructuras de datos optimizadas:** dependiendo del tamaño de los datos, es posible que pueda utilizar estructuras de datos más eficientes en memoria.\n",
    "\n",
    "2. **Tamaño de chunks:** cambiar el tamaño de los chunks. E l tamaño óptimo depende de varios factores, por ejemplo, la capacidad de memoria disponible, complejidad de los datos, capacidad de procesamiento paralelo. Se recomienda experimentar con diferentes tamaños para encontrar el equilibrio ideal entre velocidad de procesamiento y uso eficiente de recursos.\n",
    "\n",
    "3. **Análisis de fecha optimizado:** se utilizó `date_class.fromisoformat(date_str)` en lugar de crear manualmente el objeto de fecha. Esto es más eficiente y menos propenso a errores."
   ]
  },
  {
   "cell_type": "markdown",
   "metadata": {},
   "source": [
    "## Enfoque con Google Cloud\n",
    "Se podría usar Google Cloud si el json fuera mas grande y justificara su uso.\n",
    "\n",
    "1. **Google Cloud Dataflow:** utilizar Dataflow (basado en Apache Beam) para procesar los datos de forma distribuida. Esto maneja el trabajo pesado de leer el archivo, analizar JSON y agregar datos.\n",
    "\n",
    "2. **BigQuery:** almacenar los datos procesados en BigQuery porque está optimizado para consultas analíticas en grandes conjuntos de datos.\n",
    "\n",
    "3. **Análisis final:** ejecutar una consultas en SQL con BigQuery.\n",
    "\n",
    "### Beneficios de este enfoque:\n",
    "\n",
    "- **Escalabilidad:** puede manejar conjuntos de datos mucho muy grandes distribuyendo la carga de trabajo.\n",
    "- **Uso reducido de recursos locales:** la mayor parte del procesamiento pesado ocurre en la nube.\n",
    "- **Velocidad:** el procesamiento paralelo puede acelerar significativamente el análisis."
   ]
  },
  {
   "cell_type": "markdown",
   "metadata": {},
   "source": []
  }
 ],
 "metadata": {
  "kernelspec": {
   "display_name": "Python 3",
   "language": "python",
   "name": "python3"
  },
  "language_info": {
   "codemirror_mode": {
    "name": "ipython",
    "version": 3
   },
   "file_extension": ".py",
   "mimetype": "text/x-python",
   "name": "python",
   "nbconvert_exporter": "python",
   "pygments_lexer": "ipython3",
   "version": "3.10.12"
  },
  "orig_nbformat": 4
 },
 "nbformat": 4,
 "nbformat_minor": 2
}
